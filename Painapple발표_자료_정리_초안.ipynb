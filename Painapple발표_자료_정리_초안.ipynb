{
  "nbformat": 4,
  "nbformat_minor": 0,
  "metadata": {
    "colab": {
      "private_outputs": true,
      "provenance": [],
      "authorship_tag": "ABX9TyMQpxmVL7FoZAbOQeEKsPdB",
      "include_colab_link": true
    },
    "kernelspec": {
      "name": "python3",
      "display_name": "Python 3"
    },
    "language_info": {
      "name": "python"
    }
  },
  "cells": [
    {
      "cell_type": "markdown",
      "metadata": {
        "id": "view-in-github",
        "colab_type": "text"
      },
      "source": [
        "<a href=\"https://colab.research.google.com/github/Dan22dongwon/DLton_Pineapple/blob/main/Painapple%EB%B0%9C%ED%91%9C_%EC%9E%90%EB%A3%8C_%EC%A0%95%EB%A6%AC_%EC%B4%88%EC%95%88.ipynb\" target=\"_parent\"><img src=\"https://colab.research.google.com/assets/colab-badge.svg\" alt=\"Open In Colab\"/></a>"
      ]
    },
    {
      "cell_type": "markdown",
      "source": [
        "발표 순서\n",
        "\n",
        "1. MobileNet 자료 조사\n",
        "\n",
        "2. MobileNet 추가 개선 사안 연구 내용\n",
        "\n",
        "3. 실제 모델 구현\n",
        "\n",
        "4. 실험 결과\n",
        "\n",
        "5. 개선 사안"
      ],
      "metadata": {
        "id": "_jnyPhz8NIDr"
      }
    },
    {
      "cell_type": "markdown",
      "source": [
        "#### < Painapple Team>\n",
        "- 팀 목표\n",
        "  - 경량화 된 모델을 가지고 효과적인 이미지 분류 모델을 만들어 보자!\n",
        "\n",
        "- 효율적인 모델 자료 조사\n",
        "  - MobileNet\n",
        "  - EfficentNet\n",
        "\n",
        "- Reference\n",
        "  - https://keras.io/api/applications/mobilenet/#mobilenet-mobilenetv2-and-mobilenetv3\n",
        "\n",
        "  비교 논문 첨부\n",
        "\n",
        "   MobileNet V3 : https://arxiv.org/pdf/1905.02244.pdf\n",
        "\n",
        "   EfficentNetB0-B7 : https://arxiv.org/pdf/1905.11946.pdf\n",
        "\n",
        "\n",
        "- 모델 선정 기준\n",
        "  - 가장 최신 버전\n",
        "  - 성능은 좋진 않더라도 & 최대한 적은 Prams를 가진 API\n",
        "\n",
        "\n",
        "- 모델 선정\n",
        "  - MobileNet V3 small & V3 lage\n",
        "\n",
        "\n"
      ],
      "metadata": {
        "id": "Onnn4hcRNdwm"
      }
    },
    {
      "cell_type": "markdown",
      "source": [
        "## <팀의 고민 사안>\n",
        "\n",
        "1. 성능이 좋지 않으면 어떻하지?\n",
        "  - 모델이 성능이 좋지 않을 시 취 할 수 있는 방법 에 대한 연구 진행\n",
        "  ### Transfer learning & fine-tuning\n",
        "  -  https://keras.io/guides/transfer_learning/\n",
        "  \n",
        "\n",
        "  \n",
        "2. 과대 적합 및 submission 을 하기 전에 평가를 해볼 수 없을까?\n",
        "  - 이유 : 서브미션의 횟수 <2회> 한정\n",
        "  - 데이터 셋을 3개로 나누어\n",
        "  - 시험을 치기전 정확도를 한번 더 확인 해보고 다시 모델을 넣어 보자\n",
        "\n",
        "\n",
        "\n",
        "3. 하이퍼파라메터 설정 어떻게 하는게 최적일까?\n",
        "  - 논문을 확인 해보고 최적과 가까운 파라메터 가 없을지 찾아보았다\n"
      ],
      "metadata": {
        "id": "zQjLZl_bQRVS"
      }
    },
    {
      "cell_type": "markdown",
      "source": [
        "# 실제 모델 구현\n",
        "\n",
        "- DLtone_painapple repository에 있습니다\n",
        "https://github.com/Dan22dongwon/DLton_Pineapple\n",
        "\n",
        "1. Test로 V3lage모델 진행\n",
        "\n",
        "- 예상보다 학습 시간이 더 필요 하였다\n",
        "\n",
        "2. Epoch 줄여도 충분히 좋은 성과가 나올 것 이라 예측 하여\n",
        "- lage model 의 경우 epoch 5로 낮추어 학습 진행\n",
        "- small 모델 구현 동시 진행\n",
        "\n",
        "3. small 모델의 경우 학습을 여러번 시켜도 충분이 빠르게 학습 할 수 있었다.\n",
        "- small 모델:  1 epoch당 200 초가량\n",
        "- lage 모델: 1 epoch당 320 초가량\n",
        "- 논문에는 실제로 2배의 차이가 난다고 나와 있었다\n",
        "\n",
        "4. 이진 분류의 경우 기대 했던거 보다 결과 가 잘 나와서 사전에 준비 하였던\n",
        "- Transfor learning & fintuning은 진행 할 필요가 없었다."
      ],
      "metadata": {
        "id": "ZTbzot1FR7AI"
      }
    },
    {
      "cell_type": "markdown",
      "source": [
        "<캐글 검증 결과>\n",
        "\n",
        "![image.png](data:image/png;base64,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)"
      ],
      "metadata": {
        "id": "D7Gi9moWTZQE"
      }
    },
    {
      "cell_type": "markdown",
      "source": [
        "small모델 보다 lage모델이 결과가 좋았다.\n",
        "=> 실제 논문에서 정확도는 10% 의 차이가 있다고 나와 있었다."
      ],
      "metadata": {
        "id": "QhV2zPy_TvWw"
      }
    },
    {
      "cell_type": "markdown",
      "source": [
        "## 개선사안\n",
        "\n",
        "- MobileNet V3에서 Transfer learning 과 fine-tuning 에 대한 자료\n",
        "\n",
        "-   ### Transfer learning & fine-tuning\n",
        "    https://keras.io/guides/transfer_learning/"
      ],
      "metadata": {
        "id": "zrzUMmN0UVrQ"
      }
    },
    {
      "cell_type": "markdown",
      "source": [
        "##  느낀점\n",
        "\n",
        "- 최신 모델이라 다른사람들이 구현 해 놓은 부분을 찾기 가 힘들었고\n",
        "- 전처리가 얼마나 중요한지도 알게 되었다\n",
        "- 조사를 통해 정리해보고 다시 구현 해볼 수있어서 어떤 모델이든지 해볼 수 있겠다는 자신감을 얻었다.\n"
      ],
      "metadata": {
        "id": "MIqg_jMkTMVd"
      }
    }
  ]
}